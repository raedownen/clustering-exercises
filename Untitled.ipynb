{
 "cells": [
  {
   "cell_type": "code",
   "execution_count": null,
   "id": "8fa3e3c2",
   "metadata": {},
   "outputs": [],
   "source": [
    "# create dummy vars of 'gender' column, drop the first dummy var and keep remaining. \n",
    "# In testing, I see there is one dummy var returned, 'Male', so I \n",
    "# create a new column in our df, 'is_male', to hold the values for the new dummy var. \n",
    "\n",
    "df['is_male'] = pd.get_dummies(df['gender'], drop_first=True)['Male']\n",
    "df.drop(columns=['gender'], inplace=True)\n",
    "df.head()"
   ]
  },
  {
   "cell_type": "code",
   "execution_count": null,
   "id": "d3623c40",
   "metadata": {},
   "outputs": [],
   "source": [
    "1. What is the distribution of each of the variables?\n",
    "\n",
    "This is important as we move forward into testing and modeling.\n",
    "\n",
    "\n",
    "for col in train.columns:\n",
    "    plt.figure(figsize=(4,2))\n",
    "    plt.hist(train[col])\n",
    "    plt.title(col)\n",
    "    plt.show()"
   ]
  },
  {
   "cell_type": "code",
   "execution_count": null,
   "id": "83027ba2",
   "metadata": {},
   "outputs": [],
   "source": [
    "Conclusion:"
   ]
  },
  {
   "cell_type": "code",
   "execution_count": null,
   "id": "7d6260c1",
   "metadata": {},
   "outputs": [],
   "source": [
    "2. Does spending_score differ across gender"
   ]
  },
  {
   "cell_type": "code",
   "execution_count": null,
   "id": "f0170e7d",
   "metadata": {},
   "outputs": [],
   "source": [
    "Plot gender vs. spending score\n",
    "\n",
    "2-sample, 2-tailed t-test comparing the mean spending_score male vs. not male. (I would need to test the assumption of equal variance)\n",
    "\n",
    "\n",
    "sns.boxplot(x=train.is_male, y=train.spending_score)\n",
    "plt.title(\"Is there a difference in spending score for\\nmale vs. not male customers?\")\n",
    "plt.show()\n"
   ]
  },
  {
   "cell_type": "code",
   "execution_count": null,
   "id": "929ad2e9",
   "metadata": {},
   "outputs": [],
   "source": [
    "3. Is there a relationship between spending score and annual income? (Linear or otherwise).\n",
    "\n",
    "Plot annual_income by spending_score\n",
    "\n",
    "If there appears to be some linear correlation, then run spearman's test for linear correlation. We would run spearman's instead of pearson's because both variables are not normally distributed (annual_income, in this case).\n",
    "\n",
    "\n",
    "print(\"Is there a relationship\\nbetween annual income and spending score?\")\n",
    "sns.jointplot(x=\"annual_income\", y=\"spending_score\", data=train)\n",
    "plt.xlabel(\"Annual Income\")\n",
    "plt.ylabel(\"Spending Score\")\n",
    "plt.show()"
   ]
  },
  {
   "cell_type": "code",
   "execution_count": null,
   "id": "8111a631",
   "metadata": {},
   "outputs": [],
   "source": [
    "4. Is there a relationship between age and spending score?\n",
    "\n",
    "Plot age by spending_score.\n",
    "\n",
    "Linear Relationship? If there appears to be something, I can run a spearman's test to confirm. (Spearman because age is not normally distributed. If it was, I would use a pearson's test.)\n",
    "\n",
    "Create groups of ages and compare mean spending score using t-test and plotting.\n",
    "\n",
    "\n",
    "# plot age by spending_score\n",
    "plt.scatter(train.age, train.spending_score)\n",
    "plt.xlabel(\"Age\")\n",
    "plt.ylabel(\"Spending Score\")\n",
    "plt.title(\"Is there a relationship\\nbetween age and spending score?\")\n",
    "plt.show()"
   ]
  },
  {
   "cell_type": "code",
   "execution_count": null,
   "id": "9f49c4f0",
   "metadata": {},
   "outputs": [],
   "source": [
    "# create age bins for < 40 and >= 40 \n",
    "train['age_bin'] = pd.cut(train.age, [0,40, 80])\n",
    "\n",
    "train.head()"
   ]
  },
  {
   "cell_type": "code",
   "execution_count": null,
   "id": "19a4c965",
   "metadata": {},
   "outputs": [],
   "source": [
    "# box plot of the two groups and spending score\n",
    "sns.boxplot(x=train.age_bin, y=train.spending_score)\n",
    "plt.show()"
   ]
  },
  {
   "cell_type": "code",
   "execution_count": null,
   "id": "7ef260fd",
   "metadata": {},
   "outputs": [],
   "source": [
    "# test the assumption of equal variance\n",
    "\n",
    "stats.levene(train[train.age <= 40].spending_score, \n",
    "             train[train.age > 40].spending_score"
   ]
  },
  {
   "cell_type": "code",
   "execution_count": null,
   "id": "f7c8a0ff",
   "metadata": {},
   "outputs": [],
   "source": [
    "# variances are unequal\n",
    "# t-test, 2-sample (independent), 2-tail. \n",
    "\n",
    "stats.ttest_ind(train[train.age <= 40].spending_score, \n",
    "                train[train.age > 40].spending_score,\n",
    "                equal_var=False\n",
    "               )"
   ]
  },
  {
   "cell_type": "code",
   "execution_count": null,
   "id": "175c4d79",
   "metadata": {},
   "outputs": [],
   "source": [
    "5. If we control for age, does spending score differ across annual income?\n",
    "\n",
    "Let's start by plotting annual income by spending score for each of the age bins created.\n",
    "\n",
    "Analyze each bin separately. For those <=40, is there a relationship between income and spending score? For those > 40, is there a relationship? If we look at the plot that was shaped like an x (income vs spending) with only the customers <= 40, will the shape change?\n",
    "\n",
    "If a test is necessary, run a test.\n",
    "\n",
    "\n",
    "sns.scatterplot(x='annual_income', y='spending_score', \n",
    "                data=train[train.age <= 40], \n",
    "                color='purple'\n",
    "               )\n",
    "\n",
    "plt.title(\"What is the relationship of annual income\\nand spending score for those under 40?\")\n",
    "plt.show()"
   ]
  },
  {
   "cell_type": "code",
   "execution_count": null,
   "id": "b84cb9e5",
   "metadata": {},
   "outputs": [],
   "source": [
    "It still maintains the x-shape, maybe a little more on the upper parts of the x.\n",
    "\n",
    "Let's look at those > 40.\n",
    "\n",
    "\n",
    "sns.scatterplot(x='annual_income', y='spending_score',\n",
    "                data=train[train.age > 40],\n",
    "                color='teal'\n",
    "               )\n",
    "plt.title(\"What is the relationship of annual income\\nand spending score for those over 40?\")\n",
    "plt.show()"
   ]
  },
  {
   "cell_type": "code",
   "execution_count": null,
   "id": "1a651b4a",
   "metadata": {},
   "outputs": [],
   "source": [
    "Summarize Findings\n",
    "Final Conclusion, Next Steps\n",
    "\n",
    "maybe try to build clusters with the annual_income\n",
    "use the 2 age bins (0,41], (41,)\n",
    "Use income bins\n",
    "keep gender to see if it adds value.\n"
   ]
  }
 ],
 "metadata": {
  "kernelspec": {
   "display_name": "Python 3 (ipykernel)",
   "language": "python",
   "name": "python3"
  },
  "language_info": {
   "codemirror_mode": {
    "name": "ipython",
    "version": 3
   },
   "file_extension": ".py",
   "mimetype": "text/x-python",
   "name": "python",
   "nbconvert_exporter": "python",
   "pygments_lexer": "ipython3",
   "version": "3.9.12"
  }
 },
 "nbformat": 4,
 "nbformat_minor": 5
}
