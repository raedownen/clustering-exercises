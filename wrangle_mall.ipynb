{
 "cells": [
  {
   "cell_type": "markdown",
   "id": "14c94535",
   "metadata": {},
   "source": [
    "Encapsulate your work in a wrangle_mall.py python module."
   ]
  },
  {
   "cell_type": "code",
   "execution_count": 1,
   "id": "68311480",
   "metadata": {},
   "outputs": [],
   "source": [
    "# ignore warnings\n",
    "import warnings\n",
    "warnings.filterwarnings(\"ignore\")\n",
    "\n",
    "from env import host, user, password\n",
    "\n",
    "# Wrangling\n",
    "import pandas as pd\n",
    "import numpy as np\n",
    "\n",
    "# Exploring\n",
    "import scipy.stats as stats\n",
    "from sklearn.model_selection import train_test_split\n",
    "from sklearn.preprocessing import MinMaxScaler\n",
    "from sklearn.impute import SimpleImputer\n",
    "from sklearn.metrics import mean_squared_error, r2_score, explained_variance_score\n",
    "from math import sqrt\n",
    "import os\n",
    "from pathlib import Path\n",
    "\n",
    "# Visualizing\n",
    "%matplotlib inline\n",
    "import matplotlib.pyplot as plt\n",
    "from matplotlib import cm\n",
    "import seaborn as sns\n",
    "\n",
    "# default pandas decimal number display format\n",
    "pd.options.display.float_format = '{:20,.2f}'.format\n"
   ]
  },
  {
   "cell_type": "markdown",
   "id": "29979e4c",
   "metadata": {},
   "source": [
    "## Acquire data from the customers table in the mall_customers database."
   ]
  },
  {
   "cell_type": "code",
   "execution_count": 2,
   "id": "81157193",
   "metadata": {},
   "outputs": [],
   "source": [
    "#URL function\n",
    "def get_db_url(host, user, password, database):\n",
    "    return f'mysql+pymysql://{user}:{password}@{host}/{database}'"
   ]
  },
  {
   "cell_type": "code",
   "execution_count": 3,
   "id": "8cf375bd",
   "metadata": {},
   "outputs": [],
   "source": [
    "#Declare the database and url\n",
    "database = 'mall_customers'\n",
    "\n",
    "url = get_db_url(host, user, password, database)"
   ]
  },
  {
   "cell_type": "code",
   "execution_count": 4,
   "id": "cbf3ce86",
   "metadata": {},
   "outputs": [],
   "source": [
    "#Create the SQL query\n",
    "query = '''\n",
    "    SELECT * FROM customers;\n",
    "    '''"
   ]
  },
  {
   "cell_type": "code",
   "execution_count": 5,
   "id": "1918ef5d",
   "metadata": {},
   "outputs": [
    {
     "data": {
      "text/html": [
       "<div>\n",
       "<style scoped>\n",
       "    .dataframe tbody tr th:only-of-type {\n",
       "        vertical-align: middle;\n",
       "    }\n",
       "\n",
       "    .dataframe tbody tr th {\n",
       "        vertical-align: top;\n",
       "    }\n",
       "\n",
       "    .dataframe thead th {\n",
       "        text-align: right;\n",
       "    }\n",
       "</style>\n",
       "<table border=\"1\" class=\"dataframe\">\n",
       "  <thead>\n",
       "    <tr style=\"text-align: right;\">\n",
       "      <th></th>\n",
       "      <th>customer_id</th>\n",
       "      <th>gender</th>\n",
       "      <th>age</th>\n",
       "      <th>annual_income</th>\n",
       "      <th>spending_score</th>\n",
       "    </tr>\n",
       "  </thead>\n",
       "  <tbody>\n",
       "    <tr>\n",
       "      <th>0</th>\n",
       "      <td>1</td>\n",
       "      <td>Male</td>\n",
       "      <td>19</td>\n",
       "      <td>15</td>\n",
       "      <td>39</td>\n",
       "    </tr>\n",
       "    <tr>\n",
       "      <th>1</th>\n",
       "      <td>2</td>\n",
       "      <td>Male</td>\n",
       "      <td>21</td>\n",
       "      <td>15</td>\n",
       "      <td>81</td>\n",
       "    </tr>\n",
       "    <tr>\n",
       "      <th>2</th>\n",
       "      <td>3</td>\n",
       "      <td>Female</td>\n",
       "      <td>20</td>\n",
       "      <td>16</td>\n",
       "      <td>6</td>\n",
       "    </tr>\n",
       "    <tr>\n",
       "      <th>3</th>\n",
       "      <td>4</td>\n",
       "      <td>Female</td>\n",
       "      <td>23</td>\n",
       "      <td>16</td>\n",
       "      <td>77</td>\n",
       "    </tr>\n",
       "    <tr>\n",
       "      <th>4</th>\n",
       "      <td>5</td>\n",
       "      <td>Female</td>\n",
       "      <td>31</td>\n",
       "      <td>17</td>\n",
       "      <td>40</td>\n",
       "    </tr>\n",
       "  </tbody>\n",
       "</table>\n",
       "</div>"
      ],
      "text/plain": [
       "   customer_id  gender  age  annual_income  spending_score\n",
       "0            1    Male   19             15              39\n",
       "1            2    Male   21             15              81\n",
       "2            3  Female   20             16               6\n",
       "3            4  Female   23             16              77\n",
       "4            5  Female   31             17              40"
      ]
     },
     "execution_count": 5,
     "metadata": {},
     "output_type": "execute_result"
    }
   ],
   "source": [
    "#Read in the dataframe\n",
    "df = pd.read_sql(query, url)\n",
    "\n",
    "df.head()"
   ]
  },
  {
   "cell_type": "markdown",
   "id": "8a588832",
   "metadata": {},
   "source": [
    "## Summarize the data (include distributions and descriptive statistics)."
   ]
  },
  {
   "cell_type": "code",
   "execution_count": 6,
   "id": "75305b10",
   "metadata": {},
   "outputs": [
    {
     "data": {
      "text/html": [
       "<div>\n",
       "<style scoped>\n",
       "    .dataframe tbody tr th:only-of-type {\n",
       "        vertical-align: middle;\n",
       "    }\n",
       "\n",
       "    .dataframe tbody tr th {\n",
       "        vertical-align: top;\n",
       "    }\n",
       "\n",
       "    .dataframe thead th {\n",
       "        text-align: right;\n",
       "    }\n",
       "</style>\n",
       "<table border=\"1\" class=\"dataframe\">\n",
       "  <thead>\n",
       "    <tr style=\"text-align: right;\">\n",
       "      <th></th>\n",
       "      <th>count</th>\n",
       "      <th>mean</th>\n",
       "      <th>std</th>\n",
       "      <th>min</th>\n",
       "      <th>25%</th>\n",
       "      <th>50%</th>\n",
       "      <th>75%</th>\n",
       "      <th>max</th>\n",
       "    </tr>\n",
       "  </thead>\n",
       "  <tbody>\n",
       "    <tr>\n",
       "      <th>customer_id</th>\n",
       "      <td>200.00</td>\n",
       "      <td>100.50</td>\n",
       "      <td>57.88</td>\n",
       "      <td>1.00</td>\n",
       "      <td>50.75</td>\n",
       "      <td>100.50</td>\n",
       "      <td>150.25</td>\n",
       "      <td>200.00</td>\n",
       "    </tr>\n",
       "    <tr>\n",
       "      <th>age</th>\n",
       "      <td>200.00</td>\n",
       "      <td>38.85</td>\n",
       "      <td>13.97</td>\n",
       "      <td>18.00</td>\n",
       "      <td>28.75</td>\n",
       "      <td>36.00</td>\n",
       "      <td>49.00</td>\n",
       "      <td>70.00</td>\n",
       "    </tr>\n",
       "    <tr>\n",
       "      <th>annual_income</th>\n",
       "      <td>200.00</td>\n",
       "      <td>60.56</td>\n",
       "      <td>26.26</td>\n",
       "      <td>15.00</td>\n",
       "      <td>41.50</td>\n",
       "      <td>61.50</td>\n",
       "      <td>78.00</td>\n",
       "      <td>137.00</td>\n",
       "    </tr>\n",
       "    <tr>\n",
       "      <th>spending_score</th>\n",
       "      <td>200.00</td>\n",
       "      <td>50.20</td>\n",
       "      <td>25.82</td>\n",
       "      <td>1.00</td>\n",
       "      <td>34.75</td>\n",
       "      <td>50.00</td>\n",
       "      <td>73.00</td>\n",
       "      <td>99.00</td>\n",
       "    </tr>\n",
       "  </tbody>\n",
       "</table>\n",
       "</div>"
      ],
      "text/plain": [
       "                              count                 mean                  std  \\\n",
       "customer_id                  200.00               100.50                57.88   \n",
       "age                          200.00                38.85                13.97   \n",
       "annual_income                200.00                60.56                26.26   \n",
       "spending_score               200.00                50.20                25.82   \n",
       "\n",
       "                                min                  25%                  50%  \\\n",
       "customer_id                    1.00                50.75               100.50   \n",
       "age                           18.00                28.75                36.00   \n",
       "annual_income                 15.00                41.50                61.50   \n",
       "spending_score                 1.00                34.75                50.00   \n",
       "\n",
       "                                75%                  max  \n",
       "customer_id                  150.25               200.00  \n",
       "age                           49.00                70.00  \n",
       "annual_income                 78.00               137.00  \n",
       "spending_score                73.00                99.00  "
      ]
     },
     "execution_count": 6,
     "metadata": {},
     "output_type": "execute_result"
    }
   ],
   "source": [
    "#Summary statistics\n",
    "df.describe().T"
   ]
  },
  {
   "cell_type": "code",
   "execution_count": 7,
   "id": "cead0bdd",
   "metadata": {},
   "outputs": [
    {
     "data": {
      "text/plain": [
       "(200, 5)"
      ]
     },
     "execution_count": 7,
     "metadata": {},
     "output_type": "execute_result"
    }
   ],
   "source": [
    "#Shape of the dataframe\n",
    "df.shape"
   ]
  },
  {
   "cell_type": "code",
   "execution_count": 8,
   "id": "2f7f31c4",
   "metadata": {},
   "outputs": [
    {
     "data": {
      "text/plain": [
       "(0.0, 100.0)"
      ]
     },
     "execution_count": 8,
     "metadata": {},
     "output_type": "execute_result"
    },
    {
     "data": {
      "image/png": "[encoded data removed]",
      "text/plain": [
       "<Figure size 432x288 with 1 Axes>"
      ]
     },
     "metadata": {
      "needs_background": "light"
     },
     "output_type": "display_data"
    }
   ],
   "source": [
    "#Distribution of target variable\n",
    "plt.hist(x=df['spending_score'])\n",
    "plt.xlim(0, 100)"
   ]
  },
  {
   "cell_type": "markdown",
   "id": "57fef2ea",
   "metadata": {},
   "source": [
    "## Detect outliers using IQR."
   ]
  },
  {
   "cell_type": "code",
   "execution_count": 9,
   "id": "fa172eb2",
   "metadata": {},
   "outputs": [],
   "source": [
    "#Define function to drop columns/rows based on proportion of nulls\n",
    "def null_dropper(df, prop_required_column, prop_required_row):\n",
    "    \n",
    "    prop_null_column = 1 - prop_required_column\n",
    "    \n",
    "    for col in list(df.columns):\n",
    "        \n",
    "        null_sum = df[col].isna().sum()\n",
    "        null_pct = null_sum / df.shape[0]\n",
    "        \n",
    "        if null_pct > prop_null_column:\n",
    "            df.drop(columns=col, inplace=True)\n",
    "            \n",
    "    row_threshold = int(prop_required_row * df.shape[1])\n",
    "    \n",
    "    df.dropna(axis=0, thresh=row_threshold, inplace=True)\n",
    "    \n",
    "    return df"
   ]
  },
  {
   "cell_type": "code",
   "execution_count": 10,
   "id": "fb550d78",
   "metadata": {},
   "outputs": [
    {
     "data": {
      "text/html": [
       "<div>\n",
       "<style scoped>\n",
       "    .dataframe tbody tr th:only-of-type {\n",
       "        vertical-align: middle;\n",
       "    }\n",
       "\n",
       "    .dataframe tbody tr th {\n",
       "        vertical-align: top;\n",
       "    }\n",
       "\n",
       "    .dataframe thead th {\n",
       "        text-align: right;\n",
       "    }\n",
       "</style>\n",
       "<table border=\"1\" class=\"dataframe\">\n",
       "  <thead>\n",
       "    <tr style=\"text-align: right;\">\n",
       "      <th></th>\n",
       "      <th>customer_id</th>\n",
       "      <th>gender</th>\n",
       "      <th>age</th>\n",
       "      <th>annual_income</th>\n",
       "      <th>spending_score</th>\n",
       "    </tr>\n",
       "  </thead>\n",
       "  <tbody>\n",
       "    <tr>\n",
       "      <th>0</th>\n",
       "      <td>1</td>\n",
       "      <td>Male</td>\n",
       "      <td>19</td>\n",
       "      <td>15</td>\n",
       "      <td>39</td>\n",
       "    </tr>\n",
       "    <tr>\n",
       "      <th>1</th>\n",
       "      <td>2</td>\n",
       "      <td>Male</td>\n",
       "      <td>21</td>\n",
       "      <td>15</td>\n",
       "      <td>81</td>\n",
       "    </tr>\n",
       "    <tr>\n",
       "      <th>2</th>\n",
       "      <td>3</td>\n",
       "      <td>Female</td>\n",
       "      <td>20</td>\n",
       "      <td>16</td>\n",
       "      <td>6</td>\n",
       "    </tr>\n",
       "    <tr>\n",
       "      <th>3</th>\n",
       "      <td>4</td>\n",
       "      <td>Female</td>\n",
       "      <td>23</td>\n",
       "      <td>16</td>\n",
       "      <td>77</td>\n",
       "    </tr>\n",
       "    <tr>\n",
       "      <th>4</th>\n",
       "      <td>5</td>\n",
       "      <td>Female</td>\n",
       "      <td>31</td>\n",
       "      <td>17</td>\n",
       "      <td>40</td>\n",
       "    </tr>\n",
       "  </tbody>\n",
       "</table>\n",
       "</div>"
      ],
      "text/plain": [
       "   customer_id  gender  age  annual_income  spending_score\n",
       "0            1    Male   19             15              39\n",
       "1            2    Male   21             15              81\n",
       "2            3  Female   20             16               6\n",
       "3            4  Female   23             16              77\n",
       "4            5  Female   31             17              40"
      ]
     },
     "execution_count": 10,
     "metadata": {},
     "output_type": "execute_result"
    }
   ],
   "source": [
    "#Execute my function and visualize the results\n",
    "clean_df = null_dropper(df, 0.75, 0.75)\n",
    "\n",
    "clean_df.head()"
   ]
  },
  {
   "cell_type": "code",
   "execution_count": 11,
   "id": "a71489d6",
   "metadata": {},
   "outputs": [
    {
     "data": {
      "text/plain": [
       "(200, 5)"
      ]
     },
     "execution_count": 11,
     "metadata": {},
     "output_type": "execute_result"
    }
   ],
   "source": [
    "#Check shape of resulting dataframe\n",
    "clean_df.shape"
   ]
  },
  {
   "cell_type": "markdown",
   "id": "e4544787",
   "metadata": {},
   "source": [
    "## Encode categorical columns using a one hot encoder (pd.get_dummies) and Handles missing values."
   ]
  },
  {
   "cell_type": "code",
   "execution_count": 12,
   "id": "ad92c12d",
   "metadata": {},
   "outputs": [],
   "source": [
    "df=clean_df"
   ]
  },
  {
   "cell_type": "code",
   "execution_count": 13,
   "id": "ba7ce075",
   "metadata": {},
   "outputs": [],
   "source": [
    "def prep_mall_customer_data(df):\n",
    "    #Replace a whitespace sequence or empty with a NaN value and reassign this manipulation to df.\n",
    "    df = df.replace(r'^\\s*$', np.nan, regex=True)\n",
    "    \n",
    "    # Convert binary categorical variables to numeric\n",
    "    df['gender_encoded'] = df.gender.map({\"Male\":0,\"Female\":1})\n",
    "    \n",
    "    df.drop(columns=['gender'], inplace=True)\n",
    "    \n",
    "    return df"
   ]
  },
  {
   "cell_type": "code",
   "execution_count": 14,
   "id": "47deda90",
   "metadata": {},
   "outputs": [
    {
     "data": {
      "text/html": [
       "<div>\n",
       "<style scoped>\n",
       "    .dataframe tbody tr th:only-of-type {\n",
       "        vertical-align: middle;\n",
       "    }\n",
       "\n",
       "    .dataframe tbody tr th {\n",
       "        vertical-align: top;\n",
       "    }\n",
       "\n",
       "    .dataframe thead th {\n",
       "        text-align: right;\n",
       "    }\n",
       "</style>\n",
       "<table border=\"1\" class=\"dataframe\">\n",
       "  <thead>\n",
       "    <tr style=\"text-align: right;\">\n",
       "      <th></th>\n",
       "      <th>customer_id</th>\n",
       "      <th>age</th>\n",
       "      <th>annual_income</th>\n",
       "      <th>spending_score</th>\n",
       "      <th>gender_encoded</th>\n",
       "    </tr>\n",
       "  </thead>\n",
       "  <tbody>\n",
       "    <tr>\n",
       "      <th>0</th>\n",
       "      <td>1</td>\n",
       "      <td>19</td>\n",
       "      <td>15</td>\n",
       "      <td>39</td>\n",
       "      <td>0</td>\n",
       "    </tr>\n",
       "    <tr>\n",
       "      <th>1</th>\n",
       "      <td>2</td>\n",
       "      <td>21</td>\n",
       "      <td>15</td>\n",
       "      <td>81</td>\n",
       "      <td>0</td>\n",
       "    </tr>\n",
       "    <tr>\n",
       "      <th>2</th>\n",
       "      <td>3</td>\n",
       "      <td>20</td>\n",
       "      <td>16</td>\n",
       "      <td>6</td>\n",
       "      <td>1</td>\n",
       "    </tr>\n",
       "    <tr>\n",
       "      <th>3</th>\n",
       "      <td>4</td>\n",
       "      <td>23</td>\n",
       "      <td>16</td>\n",
       "      <td>77</td>\n",
       "      <td>1</td>\n",
       "    </tr>\n",
       "    <tr>\n",
       "      <th>4</th>\n",
       "      <td>5</td>\n",
       "      <td>31</td>\n",
       "      <td>17</td>\n",
       "      <td>40</td>\n",
       "      <td>1</td>\n",
       "    </tr>\n",
       "    <tr>\n",
       "      <th>...</th>\n",
       "      <td>...</td>\n",
       "      <td>...</td>\n",
       "      <td>...</td>\n",
       "      <td>...</td>\n",
       "      <td>...</td>\n",
       "    </tr>\n",
       "    <tr>\n",
       "      <th>195</th>\n",
       "      <td>196</td>\n",
       "      <td>35</td>\n",
       "      <td>120</td>\n",
       "      <td>79</td>\n",
       "      <td>1</td>\n",
       "    </tr>\n",
       "    <tr>\n",
       "      <th>196</th>\n",
       "      <td>197</td>\n",
       "      <td>45</td>\n",
       "      <td>126</td>\n",
       "      <td>28</td>\n",
       "      <td>1</td>\n",
       "    </tr>\n",
       "    <tr>\n",
       "      <th>197</th>\n",
       "      <td>198</td>\n",
       "      <td>32</td>\n",
       "      <td>126</td>\n",
       "      <td>74</td>\n",
       "      <td>0</td>\n",
       "    </tr>\n",
       "    <tr>\n",
       "      <th>198</th>\n",
       "      <td>199</td>\n",
       "      <td>32</td>\n",
       "      <td>137</td>\n",
       "      <td>18</td>\n",
       "      <td>0</td>\n",
       "    </tr>\n",
       "    <tr>\n",
       "      <th>199</th>\n",
       "      <td>200</td>\n",
       "      <td>30</td>\n",
       "      <td>137</td>\n",
       "      <td>83</td>\n",
       "      <td>0</td>\n",
       "    </tr>\n",
       "  </tbody>\n",
       "</table>\n",
       "<p>200 rows × 5 columns</p>\n",
       "</div>"
      ],
      "text/plain": [
       "     customer_id  age  annual_income  spending_score  gender_encoded\n",
       "0              1   19             15              39               0\n",
       "1              2   21             15              81               0\n",
       "2              3   20             16               6               1\n",
       "3              4   23             16              77               1\n",
       "4              5   31             17              40               1\n",
       "..           ...  ...            ...             ...             ...\n",
       "195          196   35            120              79               1\n",
       "196          197   45            126              28               1\n",
       "197          198   32            126              74               0\n",
       "198          199   32            137              18               0\n",
       "199          200   30            137              83               0\n",
       "\n",
       "[200 rows x 5 columns]"
      ]
     },
     "execution_count": 14,
     "metadata": {},
     "output_type": "execute_result"
    }
   ],
   "source": [
    "prep_mall_customer_data(df)"
   ]
  },
  {
   "cell_type": "code",
   "execution_count": 15,
   "id": "2af1016c",
   "metadata": {},
   "outputs": [],
   "source": [
    "df=prep_mall_customer_data(df)"
   ]
  },
  {
   "cell_type": "markdown",
   "id": "96014b1f",
   "metadata": {},
   "source": [
    "## Split data into train, validate, and test."
   ]
  },
  {
   "cell_type": "code",
   "execution_count": 16,
   "id": "f3fdad5a",
   "metadata": {},
   "outputs": [],
   "source": [
    "def split_mall_customer_data(df):\n",
    "    '''\n",
    "    This function performs split on our data.  Purpose of the train, validate, test is to split a dataframe.  \n",
    "    The train dataset is for training our models. We also perform our exploratory data analysis on train.  \n",
    "    The validate dataset serves two purposes. First, it is an \"out of sample\" dataset so that we can evaluate our models \n",
    "    on unseen data to measure how well the model generalizes. Second, the validate set allows us to fine tune \n",
    "    our hyperparameters.  The test dataset is our final out of sample dataset used to evaluate how well the models \n",
    "    tuned on validate generalize on unseen data. Returns train, validate, and test dfs.\n",
    "    '''\n",
    "    train_validate, test = train_test_split(df, test_size=.2, \n",
    "                                        random_state=123)\n",
    "    train, validate = train_test_split(train_validate, test_size=.3, \n",
    "                                   random_state=123)\n",
    "    return train, validate, test"
   ]
  },
  {
   "cell_type": "code",
   "execution_count": 17,
   "id": "77b85a4c",
   "metadata": {},
   "outputs": [
    {
     "data": {
      "text/plain": [
       "(     customer_id  age  annual_income  spending_score  gender_encoded\n",
       " 123          124   39             69              91               0\n",
       " 76            77   45             54              53               1\n",
       " 171          172   28             87              75               0\n",
       " 10            11   67             19              14               0\n",
       " 35            36   21             33              81               1\n",
       " ..           ...  ...            ...             ...             ...\n",
       " 175          176   30             88              86               1\n",
       " 101          102   49             62              48               1\n",
       " 148          149   34             78              22               1\n",
       " 99           100   20             61              49               0\n",
       " 22            23   46             25               5               1\n",
       " \n",
       " [112 rows x 5 columns],\n",
       "      customer_id  age  annual_income  spending_score  gender_encoded\n",
       " 68            69   19             48              59               0\n",
       " 174          175   52             88              13               1\n",
       " 69            70   32             48              47               1\n",
       " 117          118   49             65              59               1\n",
       " 13            14   24             20              77               1\n",
       " 18            19   52             23              29               0\n",
       " 91            92   18             59              41               0\n",
       " 2              3   20             16               6               1\n",
       " 145          146   28             77              97               0\n",
       " 36            37   42             34              17               1\n",
       " 15            16   22             20              79               0\n",
       " 46            47   50             40              55               1\n",
       " 80            81   57             54              51               0\n",
       " 51            52   33             42              60               0\n",
       " 143          144   32             76              87               1\n",
       " 11            12   35             19              99               1\n",
       " 61            62   19             46              55               0\n",
       " 173          174   36             87              92               0\n",
       " 152          153   44             78              20               1\n",
       " 177          178   27             88              69               0\n",
       " 141          142   32             75              93               0\n",
       " 157          158   30             78              78               1\n",
       " 81            82   38             54              55               0\n",
       " 192          193   33            113               8               0\n",
       " 120          121   27             67              56               0\n",
       " 38            39   36             37              26               1\n",
       " 8              9   64             19               3               0\n",
       " 73            74   60             50              56               1\n",
       " 30            31   60             30               4               0\n",
       " 195          196   35            120              79               1\n",
       " 32            33   53             33               4               0\n",
       " 78            79   23             54              52               1\n",
       " 113          114   19             64              46               0\n",
       " 55            56   47             43              41               0\n",
       " 153          154   38             78              76               1\n",
       " 100          101   23             62              41               1\n",
       " 198          199   32            137              18               0\n",
       " 23            24   31             25              73               0\n",
       " 62            63   67             47              52               1\n",
       " 27            28   35             28              61               0\n",
       " 63            64   54             47              59               1\n",
       " 48            49   29             40              42               1\n",
       " 24            25   54             28              14               1\n",
       " 136          137   44             73               7               1\n",
       " 176          177   58             88              15               0\n",
       " 115          116   19             65              50               1\n",
       " 74            75   59             54              47               0\n",
       " 146          147   48             77              36               0,\n",
       "      customer_id  age  annual_income  spending_score  gender_encoded\n",
       " 50            51   49             42              52               1\n",
       " 127          128   40             71              95               0\n",
       " 37            38   30             34              73               1\n",
       " 149          150   34             78              90               0\n",
       " 19            20   35             23              98               1\n",
       " 104          105   49             62              56               0\n",
       " 179          180   35             93              90               0\n",
       " 53            54   59             43              60               0\n",
       " 162          163   19             81               5               0\n",
       " 158          159   34             78               1               0\n",
       " 82            83   67             54              41               0\n",
       " 185          186   30             99              97               0\n",
       " 182          183   46             98              15               0\n",
       " 189          190   36            103              85               1\n",
       " 108          109   68             63              43               0\n",
       " 31            32   21             30              73               1\n",
       " 4              5   31             17              40               1\n",
       " 178          179   59             93              14               0\n",
       " 121          122   38             67              40               1\n",
       " 20            21   35             24              35               0\n",
       " 172          173   36             87              10               0\n",
       " 88            89   34             58              60               1\n",
       " 166          167   42             86              20               0\n",
       " 170          171   40             87              13               0\n",
       " 128          129   59             71              11               0\n",
       " 72            73   60             50              49               1\n",
       " 180          181   37             97              32               1\n",
       " 26            27   45             28              32               1\n",
       " 144          145   25             77              12               0\n",
       " 52            53   31             43              54               1\n",
       " 79            80   49             54              42               1\n",
       " 93            94   40             60              40               1\n",
       " 183          184   29             98              88               1\n",
       " 119          120   50             67              57               1\n",
       " 85            86   48             54              46               0\n",
       " 133          134   31             72              71               1\n",
       " 184          185   41             99              39               1\n",
       " 139          140   35             74              72               1\n",
       " 95            96   24             60              52               0\n",
       " 140          141   57             75               5               1)"
      ]
     },
     "execution_count": 17,
     "metadata": {},
     "output_type": "execute_result"
    }
   ],
   "source": [
    "split_mall_customer_data(df)"
   ]
  },
  {
   "cell_type": "code",
   "execution_count": 18,
   "id": "c68b1d0e",
   "metadata": {},
   "outputs": [],
   "source": [
    "train, validate, test=split_mall_customer_data(df)"
   ]
  },
  {
   "cell_type": "code",
   "execution_count": 19,
   "id": "f775dd54",
   "metadata": {},
   "outputs": [
    {
     "data": {
      "text/html": [
       "<div>\n",
       "<style scoped>\n",
       "    .dataframe tbody tr th:only-of-type {\n",
       "        vertical-align: middle;\n",
       "    }\n",
       "\n",
       "    .dataframe tbody tr th {\n",
       "        vertical-align: top;\n",
       "    }\n",
       "\n",
       "    .dataframe thead th {\n",
       "        text-align: right;\n",
       "    }\n",
       "</style>\n",
       "<table border=\"1\" class=\"dataframe\">\n",
       "  <thead>\n",
       "    <tr style=\"text-align: right;\">\n",
       "      <th></th>\n",
       "      <th>customer_id</th>\n",
       "      <th>age</th>\n",
       "      <th>annual_income</th>\n",
       "      <th>spending_score</th>\n",
       "      <th>gender_encoded</th>\n",
       "    </tr>\n",
       "  </thead>\n",
       "  <tbody>\n",
       "    <tr>\n",
       "      <th>123</th>\n",
       "      <td>124</td>\n",
       "      <td>39</td>\n",
       "      <td>69</td>\n",
       "      <td>91</td>\n",
       "      <td>0</td>\n",
       "    </tr>\n",
       "    <tr>\n",
       "      <th>76</th>\n",
       "      <td>77</td>\n",
       "      <td>45</td>\n",
       "      <td>54</td>\n",
       "      <td>53</td>\n",
       "      <td>1</td>\n",
       "    </tr>\n",
       "    <tr>\n",
       "      <th>171</th>\n",
       "      <td>172</td>\n",
       "      <td>28</td>\n",
       "      <td>87</td>\n",
       "      <td>75</td>\n",
       "      <td>0</td>\n",
       "    </tr>\n",
       "    <tr>\n",
       "      <th>10</th>\n",
       "      <td>11</td>\n",
       "      <td>67</td>\n",
       "      <td>19</td>\n",
       "      <td>14</td>\n",
       "      <td>0</td>\n",
       "    </tr>\n",
       "    <tr>\n",
       "      <th>35</th>\n",
       "      <td>36</td>\n",
       "      <td>21</td>\n",
       "      <td>33</td>\n",
       "      <td>81</td>\n",
       "      <td>1</td>\n",
       "    </tr>\n",
       "  </tbody>\n",
       "</table>\n",
       "</div>"
      ],
      "text/plain": [
       "     customer_id  age  annual_income  spending_score  gender_encoded\n",
       "123          124   39             69              91               0\n",
       "76            77   45             54              53               1\n",
       "171          172   28             87              75               0\n",
       "10            11   67             19              14               0\n",
       "35            36   21             33              81               1"
      ]
     },
     "execution_count": 19,
     "metadata": {},
     "output_type": "execute_result"
    }
   ],
   "source": [
    "train.head()"
   ]
  },
  {
   "cell_type": "code",
   "execution_count": 20,
   "id": "72cd21c8",
   "metadata": {},
   "outputs": [
    {
     "data": {
      "text/plain": [
       "(112, 5)"
      ]
     },
     "execution_count": 20,
     "metadata": {},
     "output_type": "execute_result"
    }
   ],
   "source": [
    "train.shape"
   ]
  },
  {
   "cell_type": "markdown",
   "id": "263a05a1",
   "metadata": {},
   "source": [
    "\n",
    "\n",
    "## Scaling"
   ]
  },
  {
   "cell_type": "code",
   "execution_count": 21,
   "id": "f8b1b14d",
   "metadata": {},
   "outputs": [],
   "source": [
    "def scale_data(train, \n",
    "               validate, \n",
    "               test, \n",
    "               columns_to_scale = ['gender_encoded', 'age', 'spending_score'],\n",
    "               return_scaler=False):\n",
    "    '''\n",
    "    Scales the 3 data splits. \n",
    "    Takes in train, validate, and test data splits and returns their scaled counterparts.\n",
    "    If return_scalar is True, the scaler object will be returned as well\n",
    "    '''\n",
    "    # make copies of our original data so we dont gronk up anything\n",
    "    train_scaled = train.copy()\n",
    "    validate_scaled = validate.copy()\n",
    "    test_scaled = test.copy()\n",
    "    #     make the thing\n",
    "    scaler = MinMaxScaler()\n",
    "    #     fit the thing\n",
    "    scaler.fit(train[columns_to_scale])\n",
    "    # applying the scaler:\n",
    "    train_scaled[columns_to_scale] = pd.DataFrame(scaler.transform(train[columns_to_scale]),\n",
    "                                                  columns=train[columns_to_scale].columns.values).set_index([train.index.values])\n",
    "                                                  \n",
    "    validate_scaled[columns_to_scale] = pd.DataFrame(scaler.transform(validate[columns_to_scale]),\n",
    "                                           columns=validate[columns_to_scale].columns.values).set_index([validate.index.values])\n",
    "    \n",
    "    test_scaled[columns_to_scale] = pd.DataFrame(scaler.transform(test[columns_to_scale]),\n",
    "                                                 columns=test[columns_to_scale].columns.values).set_index([test.index.values])\n",
    "    \n",
    "    if return_scaler:\n",
    "        return scaler, train_scaled, validate_scaled, test_scaled\n",
    "    else:\n",
    "        return train_scaled, validate_scaled, test_scaled"
   ]
  },
  {
   "cell_type": "code",
   "execution_count": 22,
   "id": "e59e9ec0",
   "metadata": {},
   "outputs": [
    {
     "ename": "ValueError",
     "evalue": "not enough values to unpack (expected 4, got 3)",
     "output_type": "error",
     "traceback": [
      "\u001b[0;31m---------------------------------------------------------------------------\u001b[0m",
      "\u001b[0;31mValueError\u001b[0m                                Traceback (most recent call last)",
      "Input \u001b[0;32mIn [22]\u001b[0m, in \u001b[0;36m<cell line: 1>\u001b[0;34m()\u001b[0m\n\u001b[0;32m----> 1\u001b[0m scaler, train_scaled, validate_scaled, test_scaled \u001b[38;5;241m=\u001b[39m scale_data(train, \n\u001b[1;32m      2\u001b[0m                validate, \n\u001b[1;32m      3\u001b[0m                test, \n\u001b[1;32m      4\u001b[0m                columns_to_scale \u001b[38;5;241m=\u001b[39m [\u001b[38;5;124m'\u001b[39m\u001b[38;5;124mgender_encoded\u001b[39m\u001b[38;5;124m'\u001b[39m, \u001b[38;5;124m'\u001b[39m\u001b[38;5;124mage\u001b[39m\u001b[38;5;124m'\u001b[39m, \u001b[38;5;124m'\u001b[39m\u001b[38;5;124mspending_score\u001b[39m\u001b[38;5;124m'\u001b[39m],\n\u001b[1;32m      5\u001b[0m                return_scaler\u001b[38;5;241m=\u001b[39m\u001b[38;5;28;01mFalse\u001b[39;00m)\n",
      "\u001b[0;31mValueError\u001b[0m: not enough values to unpack (expected 4, got 3)"
     ]
    }
   ],
   "source": [
    "scaler, train_scaled, validate_scaled, test_scaled = scale_data(train, \n",
    "               validate, \n",
    "               test, \n",
    "               columns_to_scale = ['gender_encoded', 'age', 'spending_score'],\n",
    "               return_scaler=False)"
   ]
  },
  {
   "cell_type": "code",
   "execution_count": null,
   "id": "e159fe6b",
   "metadata": {},
   "outputs": [],
   "source": [
    "# allows you to see before and after scaling of data\n",
    "def visualize_scaler(scaler, df, columns_to_scale, bins=5):\n",
    "    fig, axs = plt.subplots(len(columns_to_scale), 2, figsize=(16,9))\n",
    "    df_scaled = df.copy()\n",
    "    df_scaled[columns_to_scale] = scaler.fit_transform(df[columns_to_scale])\n",
    "    for (ax1, ax2), col in zip(axs, columns_to_scale):\n",
    "        ax1.hist(df[col], bins=bins)\n",
    "        ax1.set(title=f'{col} before scaling', xlabel=col, ylabel='count')\n",
    "        ax2.hist(df_scaled[col], bins=bins)\n",
    "        ax2.set(title=f'{col} after scaling with {scaler.__class__.__name__}', xlabel=col, ylabel='count')\n",
    "    plt.tight_layout()\n",
    "#return fig, axs"
   ]
  }
 ],
 "metadata": {
  "kernelspec": {
   "display_name": "Python 3 (ipykernel)",
   "language": "python",
   "name": "python3"
  },
  "language_info": {
   "codemirror_mode": {
    "name": "ipython",
    "version": 3
   },
   "file_extension": ".py",
   "mimetype": "text/x-python",
   "name": "python",
   "nbconvert_exporter": "python",
   "pygments_lexer": "ipython3",
   "version": "3.9.12"
  }
 },
 "nbformat": 4,
 "nbformat_minor": 5
}
